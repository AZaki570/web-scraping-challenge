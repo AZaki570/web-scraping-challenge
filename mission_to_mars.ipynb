{
 "cells": [
  {
   "cell_type": "code",
   "execution_count": null,
   "metadata": {},
   "outputs": [],
   "source": [
    "## Initialization\n",
    "# !pip install beautifulsoup4 pandas requests\n",
    "# !python -m pip install --upgrade pip\n",
    "#!pip install lxml\n",
    "# !pip install splinter \n",
    "# !pip install selenium"
   ]
  },
  {
   "cell_type": "code",
   "execution_count": 85,
   "metadata": {},
   "outputs": [],
   "source": [
    "# Imports\n",
    "from bs4 import BeautifulSoup\n",
    "from selenium import webdriver\n",
    "from selenium.webdriver.firefox.options import Options\n",
    "from selenium.webdriver.support.ui import WebDriverWait\n",
    "from selenium.webdriver.support import expected_conditions as EC\n",
    "from selenium.webdriver.common.by import By\n",
    "import time\n",
    "import pandas as pd\n"
   ]
  },
  {
   "cell_type": "code",
   "execution_count": 36,
   "metadata": {},
   "outputs": [],
   "source": [
    "def extractPageSource(URL):\n",
    "    options = Options()\n",
    "    options.binary_location = r'./Firefox/firefox.exe'\n",
    "    options.headless = True\n",
    "    driver = webdriver.Firefox(executable_path=r'./geckodriver.exe', options =options)\n",
    "    # get source code\n",
    "    driver.get(URL)\n",
    "    html = driver.page_source\n",
    "    time.sleep(2)\n",
    "    driver.close()\n",
    "    return html"
   ]
  },
  {
   "cell_type": "markdown",
   "metadata": {},
   "source": [
    "# NASA Mars News"
   ]
  },
  {
   "cell_type": "code",
   "execution_count": 33,
   "metadata": {},
   "outputs": [],
   "source": [
    "URL = \"https://redplanetscience.com/\"\n",
    "html = extractPageSource(URL)\n",
    "soup = BeautifulSoup(html)\n",
    "title_elements = soup.findAll('div', attrs = {'class' : 'content_title'})\n",
    "description_elements = soup.findAll('div', attrs = {'class' : 'article_teaser_body'})\n",
    "news_title =[]\n",
    "news_p = [] \n",
    "for title_element,description_element in zip(title_elements,description_elements):\n",
    "    news_title.append(title_element.text)\n",
    "    news_p.append(description_element.text)\n",
    "    \n",
    "# close web browser\n",
    "\n"
   ]
  },
  {
   "cell_type": "markdown",
   "metadata": {},
   "source": [
    "# JPL Mars Space Images - Featured Image"
   ]
  },
  {
   "cell_type": "code",
   "execution_count": 39,
   "metadata": {},
   "outputs": [
    {
     "name": "stdout",
     "output_type": "stream",
     "text": [
      "https://spaceimages-mars.com/image/featured/mars2.jpg\n"
     ]
    }
   ],
   "source": [
    "URL = \"https://spaceimages-mars.com/\"\n",
    "html = extractPageSource(URL)\n",
    "soup = BeautifulSoup(html)\n",
    "img_src = soup.find('img',attrs={'class':'headerimage fade-in'})['src']\n",
    "featured_image_url = f\"{URL}{img_src}\""
   ]
  },
  {
   "cell_type": "markdown",
   "metadata": {},
   "source": [
    "# Mars Facts"
   ]
  },
  {
   "cell_type": "code",
   "execution_count": 68,
   "metadata": {},
   "outputs": [],
   "source": [
    "URL = \"https://galaxyfacts-mars.com/\"\n",
    "table_MN = pd.read_html(URL)\n",
    "info_table = pd.DataFrame({'Feature':table_MN[1][0],'Value':table_MN[1][1]})\n",
    "html_table_string = info_table.to_html()"
   ]
  },
  {
   "cell_type": "markdown",
   "metadata": {},
   "source": [
    "# Mars Hemispheres"
   ]
  },
  {
   "cell_type": "code",
   "execution_count": 120,
   "metadata": {},
   "outputs": [
    {
     "data": {
      "text/plain": [
       "[{'title': 'Cerberus Hemisphere Enhanced',\n",
       "  'img_url': 'https://marshemispheres.com/images/full.jpg'},\n",
       " {'title': 'Schiaparelli Hemisphere Enhanced',\n",
       "  'img_url': 'https://marshemispheres.com/images/schiaparelli_enhanced-full.jpg'},\n",
       " {'title': 'Syrtis Major Hemisphere Enhanced',\n",
       "  'img_url': 'https://marshemispheres.com/images/syrtis_major_enhanced-full.jpg'},\n",
       " {'title': 'Valles Marineris Hemisphere Enhanced',\n",
       "  'img_url': 'https://marshemispheres.com/images/valles_marineris_enhanced-full.jpg'}]"
      ]
     },
     "execution_count": 120,
     "metadata": {},
     "output_type": "execute_result"
    }
   ],
   "source": [
    "URL = \"https://marshemispheres.com/\"\n",
    "options = Options()\n",
    "options.binary_location = r'./Firefox/firefox.exe'\n",
    "options.headless = True\n",
    "driver = webdriver.Firefox(executable_path=r'./geckodriver.exe', options =options)\n",
    "# get source code\n",
    "driver.get(URL)\n",
    "hemisphere_image_urls=[]\n",
    "for i in range(1,5):\n",
    "    fastrack = WebDriverWait(driver, 10).until(EC.visibility_of_element_located((By.XPATH, f'//*[@id=\"product-section\"]/div[2]/div[{i}]/a/img')))\n",
    "    fastrack.click()\n",
    "    img_src = driver.find_element_by_xpath('//*[@id=\"wide-image\"]/div/ul/li[1]/a').get_attribute(\"href\")\n",
    "    img_title = driver.find_element_by_xpath('//*[@id=\"results\"]/div[1]/div/div[3]/h2').text\n",
    "    hemisphere_image_urls.append({'title':img_title,'img_url':img_src})\n",
    "    driver.execute_script(\"window.history.go(-1)\")\n",
    "    time.sleep(2)\n",
    "driver.close()\n",
    "hemisphere_image_urls"
   ]
  }
 ],
 "metadata": {
  "kernelspec": {
   "display_name": "Python 3 (ipykernel)",
   "language": "python",
   "name": "python3"
  },
  "language_info": {
   "codemirror_mode": {
    "name": "ipython",
    "version": 3
   },
   "file_extension": ".py",
   "mimetype": "text/x-python",
   "name": "python",
   "nbconvert_exporter": "python",
   "pygments_lexer": "ipython3",
   "version": "3.8.2"
  }
 },
 "nbformat": 4,
 "nbformat_minor": 4
}
